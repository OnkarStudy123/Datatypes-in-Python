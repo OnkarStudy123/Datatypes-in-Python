{
 "cells": [
  {
   "cell_type": "markdown",
   "id": "a3838feb",
   "metadata": {},
   "source": [
    "#  Datatypes In Python"
   ]
  },
  {
   "cell_type": "markdown",
   "id": "45d663d9",
   "metadata": {},
   "source": [
    "### 1) Numeric Types - Int, Float, Complex \n",
    "\n",
    "Eg:\n",
    "\n",
    "* int- 1,2,3,4,5\n",
    "\n",
    "* float- 111.2 ,222.3 ,444.5 ,567.6\n",
    "\n",
    "* complex- (3+4j), (5i+6j)"
   ]
  },
  {
   "cell_type": "code",
   "execution_count": null,
   "id": "3c7f7ba8",
   "metadata": {},
   "outputs": [],
   "source": []
  },
  {
   "cell_type": "markdown",
   "id": "beb98951",
   "metadata": {},
   "source": [
    "# 2) Sequence types - list, tuple, range\n",
    "\n",
    "Eg:\n",
    "\n",
    "* list = [1,2,4,\"hello\", 1.23, (3+4j)]      # in the list we will change the values\n",
    "* tuple = (1,2,3,\"Hello\")                    # in the tuple we cannot change the values\n",
    "* range = range(1,20)                        # in this they gives a 1,2,3,4.....,20 numbers"
   ]
  },
  {
   "cell_type": "code",
   "execution_count": null,
   "id": "f6277ad9",
   "metadata": {},
   "outputs": [],
   "source": []
  },
  {
   "cell_type": "markdown",
   "id": "5d9470dd",
   "metadata": {},
   "source": [
    "### Examples of list "
   ]
  },
  {
   "cell_type": "code",
   "execution_count": 1,
   "id": "065f738b",
   "metadata": {},
   "outputs": [
    {
     "data": {
      "text/plain": [
       "[1, 2, 3, 4, 5, 6, 'hello']"
      ]
     },
     "execution_count": 1,
     "metadata": {},
     "output_type": "execute_result"
    }
   ],
   "source": [
    "list1= [1,2,3,4,5,6,\"hello\"]\n",
    "list1"
   ]
  },
  {
   "cell_type": "code",
   "execution_count": 2,
   "id": "f2eaeec6",
   "metadata": {},
   "outputs": [
    {
     "data": {
      "text/plain": [
       "[1, 2, 3, 4, 10, 6, 'hello']"
      ]
     },
     "execution_count": 2,
     "metadata": {},
     "output_type": "execute_result"
    }
   ],
   "source": [
    "# in this list we will change the 4th value \n",
    "list1[4]=10\n",
    "list1"
   ]
  },
  {
   "cell_type": "code",
   "execution_count": 3,
   "id": "d0c4c968",
   "metadata": {},
   "outputs": [
    {
     "data": {
      "text/plain": [
       "3"
      ]
     },
     "execution_count": 3,
     "metadata": {},
     "output_type": "execute_result"
    }
   ],
   "source": [
    "# in this list we will give only number 3\n",
    "\n",
    "list1[2]"
   ]
  },
  {
   "cell_type": "code",
   "execution_count": 4,
   "id": "c79e6e97",
   "metadata": {},
   "outputs": [
    {
     "data": {
      "text/plain": [
       "[1, 2, 3, 4, 10, 6, 'welcome']"
      ]
     },
     "execution_count": 4,
     "metadata": {},
     "output_type": "execute_result"
    }
   ],
   "source": [
    "# change the hello into welcome \n",
    "list1[6]=\"welcome\"\n",
    "list1"
   ]
  },
  {
   "cell_type": "code",
   "execution_count": 5,
   "id": "94cc59b7",
   "metadata": {},
   "outputs": [
    {
     "data": {
      "text/plain": [
       "'c'"
      ]
     },
     "execution_count": 5,
     "metadata": {},
     "output_type": "execute_result"
    }
   ],
   "source": [
    "# in list we will also access the c letter from welcome\n",
    "\n",
    "list1[6][3]      # [6] we will access the welcome [3] we will access the letter 'c'"
   ]
  },
  {
   "cell_type": "code",
   "execution_count": 6,
   "id": "dbbeb96d",
   "metadata": {},
   "outputs": [
    {
     "data": {
      "text/plain": [
       "(1, 2, 3, 4, 'Hello')"
      ]
     },
     "execution_count": 6,
     "metadata": {},
     "output_type": "execute_result"
    }
   ],
   "source": [
    "# create a tuple \n",
    "\n",
    "tuple1= (1,2,3,4,\"Hello\")\n",
    "tuple1"
   ]
  },
  {
   "cell_type": "code",
   "execution_count": 7,
   "id": "3882e521",
   "metadata": {},
   "outputs": [
    {
     "data": {
      "text/plain": [
       "2"
      ]
     },
     "execution_count": 7,
     "metadata": {},
     "output_type": "execute_result"
    }
   ],
   "source": [
    "# access the 2nd position \n",
    "tuple1[1]"
   ]
  },
  {
   "cell_type": "code",
   "execution_count": null,
   "id": "5cc2aa6b",
   "metadata": {},
   "outputs": [],
   "source": []
  },
  {
   "cell_type": "code",
   "execution_count": 13,
   "id": "19d21767",
   "metadata": {},
   "outputs": [
    {
     "name": "stdout",
     "output_type": "stream",
     "text": [
      "[1, 2, 3, 4, 5, 6, 7, 8, 9]\n"
     ]
    }
   ],
   "source": [
    "# create a range between 1 to 10\n",
    "\n",
    "range1 = range(1, 10,)    # (start, end )\n",
    "print(list(range1))\n"
   ]
  },
  {
   "cell_type": "code",
   "execution_count": 15,
   "id": "9e91e3b9",
   "metadata": {},
   "outputs": [
    {
     "name": "stdout",
     "output_type": "stream",
     "text": [
      "[1, 3, 5, 7, 9]\n"
     ]
    }
   ],
   "source": [
    "range1 = range(1, 10,2)    # (start, end, step )  step me jump or skip the values\n",
    "print(list(range1))"
   ]
  },
  {
   "cell_type": "code",
   "execution_count": null,
   "id": "378ad6f6",
   "metadata": {},
   "outputs": [],
   "source": []
  },
  {
   "cell_type": "markdown",
   "id": "6f1144d1",
   "metadata": {},
   "source": [
    "# 3)  Mapping type - dict"
   ]
  },
  {
   "cell_type": "code",
   "execution_count": 17,
   "id": "783e2261",
   "metadata": {},
   "outputs": [
    {
     "data": {
      "text/plain": [
       "{'name': 'jay', 'Age': 20}"
      ]
     },
     "execution_count": 17,
     "metadata": {},
     "output_type": "execute_result"
    }
   ],
   "source": [
    "# we will create a dictonary \n",
    "\n",
    "A = {'name':'jay', 'Age':20}     # dictonary stores the values using (key :values) pair \n",
    "A"
   ]
  },
  {
   "cell_type": "code",
   "execution_count": 19,
   "id": "aeaff52d",
   "metadata": {},
   "outputs": [
    {
     "data": {
      "text/plain": [
       "'jay'"
      ]
     },
     "execution_count": 19,
     "metadata": {},
     "output_type": "execute_result"
    }
   ],
   "source": [
    "A['name']        # in this eg we called the key and they gives to the value"
   ]
  },
  {
   "cell_type": "code",
   "execution_count": 21,
   "id": "bf7eb4b4",
   "metadata": {},
   "outputs": [
    {
     "data": {
      "text/plain": [
       "{'name': 'kartik', 'Age': 20}"
      ]
     },
     "execution_count": 21,
     "metadata": {},
     "output_type": "execute_result"
    }
   ],
   "source": [
    "A['name']='kartik'    # in this eg we change the value using key\n",
    "A"
   ]
  },
  {
   "cell_type": "code",
   "execution_count": 28,
   "id": "5ef16853",
   "metadata": {},
   "outputs": [
    {
     "data": {
      "text/plain": [
       "{'name': 'kartik', 'Age': 20, 'salary': 20000}"
      ]
     },
     "execution_count": 28,
     "metadata": {},
     "output_type": "execute_result"
    }
   ],
   "source": [
    "A['salary']=20000      # in this eg we will add the new (key value) in dictonary\n",
    "A"
   ]
  },
  {
   "cell_type": "code",
   "execution_count": null,
   "id": "3fc7b450",
   "metadata": {},
   "outputs": [],
   "source": []
  },
  {
   "cell_type": "code",
   "execution_count": null,
   "id": "6908f560",
   "metadata": {},
   "outputs": [],
   "source": []
  }
 ],
 "metadata": {
  "kernelspec": {
   "display_name": "Python 3 (ipykernel)",
   "language": "python",
   "name": "python3"
  },
  "language_info": {
   "codemirror_mode": {
    "name": "ipython",
    "version": 3
   },
   "file_extension": ".py",
   "mimetype": "text/x-python",
   "name": "python",
   "nbconvert_exporter": "python",
   "pygments_lexer": "ipython3",
   "version": "3.11.5"
  }
 },
 "nbformat": 4,
 "nbformat_minor": 5
}
